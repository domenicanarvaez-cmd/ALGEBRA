{
  "nbformat": 4,
  "nbformat_minor": 0,
  "metadata": {
    "colab": {
      "provenance": [],
      "authorship_tag": "ABX9TyPhnq335yyxkoyBkKfrnNQP",
      "include_colab_link": true
    },
    "kernelspec": {
      "name": "python3",
      "display_name": "Python 3"
    },
    "language_info": {
      "name": "python"
    }
  },
  "cells": [
    {
      "cell_type": "markdown",
      "metadata": {
        "id": "view-in-github",
        "colab_type": "text"
      },
      "source": [
        "<a href=\"https://colab.research.google.com/github/domenicanarvaez-cmd/ALGEBRA/blob/main/Matriz_1_TAREA.ipynb\" target=\"_parent\"><img src=\"https://colab.research.google.com/assets/colab-badge.svg\" alt=\"Open In Colab\"/></a>"
      ]
    },
    {
      "cell_type": "code",
      "source": [
        "import numpy as np\n",
        "\n",
        "# Definir dos matrices A y B de 3x3\n",
        "A = np.array([[2, 4, 6],\n",
        "              [1, 3, 5],\n",
        "              [0, -1, 2]])\n",
        "\n",
        "# Modificar la matriz B para que tenga las mismas dimensiones que A para suma y resta\n",
        "B = np.array([[3,2, 1],\n",
        "              [4, 0, -2],\n",
        "              [1, 3, 5]])\n",
        "\n",
        "\n",
        "print(\"Matriz A:\\n\", A)\n",
        "print(\"\\nMatriz B:\\n\", B)\n",
        "\n",
        "# ------------------------------\n",
        "# Suma de matrices\n",
        "# ------------------------------\n",
        "\n",
        "suma = A + B\n",
        "print(\"\\n Suma (A + B):\\n\", suma)\n",
        "\n",
        "valors = A[1,1] + B[1,1]\n",
        "print(\"El valor de C[1,1] es: \", valors)\n",
        "\n",
        "# ------------------------------\n",
        "#  Resta de matrices\n",
        "# ------------------------------\n",
        "\n",
        "resta = A - B\n",
        "print(\"\\n Resta (A - B):\\n\", resta)\n",
        "\n",
        "valorr = A[0,2] - B[0,2]\n",
        "print(\"El valor de C[0,2] es: \", valorr)\n",
        "\n",
        "# ------------------------------\n",
        "# Multiplicación por un escalar\n",
        "# ------------------------------\n",
        "escalar = 2\n",
        "producto_escalar = escalar * A\n",
        "print(f\"\\n Multiplicación por escalar ({escalar} * A):\\n\", producto_escalar)\n",
        "\n",
        "valore = 2 * A[2,1]\n",
        "print(\"El valor de 2A[2,1] es: \", valore)\n",
        "\n",
        "# ------------------------------\n",
        "#  Multiplicación matricial\n",
        "# ------------------------------\n",
        "producto = np.dot(A, B)   # o A @ B\n",
        "print(\"\\n Producto matricial (A * B):\\n\", producto)\n",
        "\n",
        "valor = A[0,0]*B[0,0] + A[0,1]*B[1,0] + A[0,2]*B[2,0]\n",
        "print(\"El valor de C[0,0] es: \", valor)\n",
        "\n",
        "# ------------------------------\n",
        "# Matriz transpuesta\n",
        "# ------------------------------\n",
        "#transpuesta = A.T\n",
        "#print(\"\\n Transpuesta de A (Aᵀ):\\n\", transpuesta)"
      ],
      "metadata": {
        "colab": {
          "base_uri": "https://localhost:8080/"
        },
        "id": "bLB3Nm4Agl-1",
        "outputId": "d291a774-55ba-4ece-a183-401f765f8f08"
      },
      "execution_count": 6,
      "outputs": [
        {
          "output_type": "stream",
          "name": "stdout",
          "text": [
            "Matriz A:\n",
            " [[ 2  4  6]\n",
            " [ 1  3  5]\n",
            " [ 0 -1  2]]\n",
            "\n",
            "Matriz B:\n",
            " [[ 3  2  1]\n",
            " [ 4  0 -2]\n",
            " [ 1  3  5]]\n",
            "\n",
            " Suma (A + B):\n",
            " [[5 6 7]\n",
            " [5 3 3]\n",
            " [1 2 7]]\n",
            "El valor de C[1,1] es:  3\n",
            "\n",
            " Resta (A - B):\n",
            " [[-1  2  5]\n",
            " [-3  3  7]\n",
            " [-1 -4 -3]]\n",
            "El valor de C[0,2] es:  5\n",
            "\n",
            " Multiplicación por escalar (2 * A):\n",
            " [[ 4  8 12]\n",
            " [ 2  6 10]\n",
            " [ 0 -2  4]]\n",
            "El valor de 2A[2,1] es:  -2\n",
            "\n",
            " Producto matricial (A * B):\n",
            " [[28 22 24]\n",
            " [20 17 20]\n",
            " [-2  6 12]]\n",
            "El valor de C[0,0] es:  28\n"
          ]
        }
      ]
    },
    {
      "cell_type": "code",
      "metadata": {
        "colab": {
          "base_uri": "https://localhost:8080/"
        },
        "id": "bc9af3a4",
        "outputId": "9a82e652-2948-412f-d76b-650533825855"
      },
      "source": [
        "from datetime import date\n",
        "\n",
        "today = date.today()\n",
        "print(\"Fecha actual:\", today)\n",
        "\n",
        "# Reemplaza \"Tu Nombre\" y \"Tu Carrera\" con tu información\n",
        "nombres = \"Domenica Brigeeth Narvaez Rivas\"\n",
        "carrera = \"Ingienería en Computación\"\n",
        "\n",
        "print(\"Nombre:\", nombres)\n",
        "print(\"Carrera:\", carrera)"
      ],
      "execution_count": null,
      "outputs": [
        {
          "output_type": "stream",
          "name": "stdout",
          "text": [
            "Fecha actual: 2025-10-20\n",
            "Nombre: Domenica Brigeeth Narvaez Rivas\n",
            "Carrera: Ingienería en Computación\n"
          ]
        }
      ]
    }
  ]
}