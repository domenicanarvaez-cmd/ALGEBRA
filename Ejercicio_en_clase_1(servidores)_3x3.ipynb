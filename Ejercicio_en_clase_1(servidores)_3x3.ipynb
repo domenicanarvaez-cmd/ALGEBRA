{
  "nbformat": 4,
  "nbformat_minor": 0,
  "metadata": {
    "colab": {
      "provenance": [],
      "authorship_tag": "ABX9TyMjlRtfYgV7Gti4JJD5odT7",
      "include_colab_link": true
    },
    "kernelspec": {
      "name": "python3",
      "display_name": "Python 3"
    },
    "language_info": {
      "name": "python"
    }
  },
  "cells": [
    {
      "cell_type": "markdown",
      "metadata": {
        "id": "view-in-github",
        "colab_type": "text"
      },
      "source": [
        "<a href=\"https://colab.research.google.com/github/domenicanarvaez-cmd/ALGEBRA/blob/main/Ejercicio_en_clase_1(servidores)_3x3.ipynb\" target=\"_parent\"><img src=\"https://colab.research.google.com/assets/colab-badge.svg\" alt=\"Open In Colab\"/></a>"
      ]
    },
    {
      "cell_type": "code",
      "source": [
        "from sympy import symbols, Eq, solve\n",
        "x, y, z = symbols('x y z')\n",
        "sol = solve([\n",
        "    Eq(x + y + z, 1200),\n",
        "    Eq(2 * x + y + 3 * z, 2500),\n",
        "    Eq(x - y + z, 400)\n",
        "], (x, y, z))\n",
        "sol"
      ],
      "metadata": {
        "id": "DpzMPGk9QPjd",
        "colab": {
          "base_uri": "https://localhost:8080/"
        },
        "outputId": "b944b682-9b6c-4a05-f556-96dfc4bcacd3"
      },
      "execution_count": 3,
      "outputs": [
        {
          "output_type": "execute_result",
          "data": {
            "text/plain": [
              "{x: 300, y: 400, z: 500}"
            ]
          },
          "metadata": {},
          "execution_count": 3
        }
      ]
    }
  ]
}