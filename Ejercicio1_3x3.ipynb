{
  "nbformat": 4,
  "nbformat_minor": 0,
  "metadata": {
    "colab": {
      "provenance": [],
      "authorship_tag": "ABX9TyM/rWUsEyHwv7P0UCpwnx5y",
      "include_colab_link": true
    },
    "kernelspec": {
      "name": "python3",
      "display_name": "Python 3"
    },
    "language_info": {
      "name": "python"
    }
  },
  "cells": [
    {
      "cell_type": "markdown",
      "metadata": {
        "id": "view-in-github",
        "colab_type": "text"
      },
      "source": [
        "<a href=\"https://colab.research.google.com/github/domenicanarvaez-cmd/ALGEBRA/blob/main/Ejercicio1_3x3.ipynb\" target=\"_parent\"><img src=\"https://colab.research.google.com/assets/colab-badge.svg\" alt=\"Open In Colab\"/></a>"
      ]
    },
    {
      "cell_type": "code",
      "source": [
        "import sympy\n",
        "from sympy import symbols, Eq, solve"
      ],
      "metadata": {
        "id": "2tvrv2HMgSZU"
      },
      "execution_count": 3,
      "outputs": []
    },
    {
      "cell_type": "code",
      "source": [
        "# Definimos las variables\n",
        "x, y, z = symbols('x y z')\n",
        "\n",
        "print(\"Resolviendo un sistema 3x3 con el MÉTODO DE SUSTITUCIÓN\")\n",
        "print(\"Forma general:\")\n",
        "print(\"a1*x + b1*y + c1*z = d1\")\n",
        "print(\"a2*x + b2*y + c2*z = d2\")\n",
        "print(\"a3*x + b3*y + c3*z = d3\")\n",
        "print(\"-\" * 50)\n",
        "\n",
        "# Pedimos los coeficientes al usuario\n",
        "a1, b1, c1, d1 = map(float, input(\"Ingrese los coeficientes de la primera ecuación (a1 b1 c1 d1): \").split())\n",
        "a2, b2, c2, d2 = map(float, input(\"Ingrese los coeficientes de la segunda ecuación (a2 b2 c2 d2): \").split())\n",
        "a3, b3, c3, d3 = map(float, input(\"Ingrese los coeficientes de la tercera ecuación (a3 b3 c3 d3): \").split())\n",
        "\n",
        "# Creamos las ecuaciones\n",
        "ec1 = Eq(a1*x + b1*y + c1*z, d1)\n",
        "ec2 = Eq(a2*x + b2*y + c2*z, d2)\n",
        "ec3 = Eq(a3*x + b3*y + c3*z, d3)\n",
        "\n",
        "print(\"\\nEcuaciones ingresadas:\")\n",
        "print(\"E1:\", ec1)\n",
        "print(\"E2:\", ec2)\n",
        "print(\"E3:\", ec3)\n",
        "\n",
        "# Paso 1: Despejar x de la primera ecuación\n",
        "despeje_x = solve(ec1, x)[0]\n",
        "print(f\"\\nPaso 1: Despejamos x de la primera ecuación:\")\n",
        "print(f\"x = {despeje_x}\")\n",
        "\n",
        "# Paso 2: Sustituimos x en la segunda y tercer ecuación\n",
        "print(\"\\nPaso 2: Sustituimos x en E2 y E3 ecuación:\")\n",
        "ec2_sust = ec2.subs(x, despeje_x)\n",
        "ec3_sust = ec3.subs(x, despeje_x)\n",
        "print(\"Nueva ecuación en y, z:\", ec2_sust)\n",
        "print(\"Nueva ecuación en y, z:\", ec3_sust)\n",
        "\n",
        "# Paso 3: Despejar y de la segunda ecuación\n",
        "despeje_y = solve(ec2_sust, y)[0]\n",
        "print(f\"\\nPaso 3: Despejamos y de la segunda ecuación:\")\n",
        "print(f\"y = {despeje_y}\")\n",
        "\n",
        "# Paso 4: Sustituimos y en la \"Nueva ecuación en y\" ecuación\n",
        "print(\"\\nPaso 4: Sustituimos y en la nueva tercer ecuación:\")\n",
        "sol_z = solve(ec3_sust.subs(y, despeje_y),z)[0]\n",
        "print(f\"\\nPaso 4: Resolviendo para z obtenemos: z = {sol_z}\")\n",
        "\n",
        "# Paso 5: Sustituir z en la ecuación de y\n",
        "sol_y = despeje_y.subs(z, sol_z)\n",
        "print(f\"\\nPaso 5: Sustituyendo z = {sol_z} en la ecuación despejada obtenemos: y = {sol_y}\")\n",
        "\n",
        "# Paso 6: Sustituir y, z en la ecuación de x\n",
        "sol_x = despeje_x.subs([(y, sol_y), (z, sol_z)])\n",
        "print(f\"\\nPaso 6: Sustituyendo y, z en la ecuación despejada obtenemos: x = {sol_x}\")\n",
        "\n",
        "# Solución final\n",
        "print(\"\\n✅ Solución del sistema:\")\n",
        "print(f\"x = {sol_x}, y = {sol_y}, z = {sol_z}\")"
      ],
      "metadata": {
        "colab": {
          "base_uri": "https://localhost:8080/"
        },
        "id": "6ReZNXJUkJiP",
        "outputId": "15e81a75-ccc4-4e95-f7b0-86f008fa3086"
      },
      "execution_count": 7,
      "outputs": [
        {
          "output_type": "stream",
          "name": "stdout",
          "text": [
            "Resolviendo un sistema 3x3 con el MÉTODO DE SUSTITUCIÓN\n",
            "Forma general:\n",
            "a1*x + b1*y + c1*z = d1\n",
            "a2*x + b2*y + c2*z = d2\n",
            "a3*x + b3*y + c3*z = d3\n",
            "--------------------------------------------------\n",
            "Ingrese los coeficientes de la primera ecuación (a1 b1 c1 d1): 1 1 1 1200\n",
            "Ingrese los coeficientes de la segunda ecuación (a2 b2 c2 d2): 2 1 3 2500\n",
            "Ingrese los coeficientes de la tercera ecuación (a3 b3 c3 d3): 1 -1 1 400\n",
            "\n",
            "Ecuaciones ingresadas:\n",
            "E1: Eq(1.0*x + 1.0*y + 1.0*z, 1200.0)\n",
            "E2: Eq(2.0*x + 1.0*y + 3.0*z, 2500.0)\n",
            "E3: Eq(1.0*x - 1.0*y + 1.0*z, 400.0)\n",
            "\n",
            "Paso 1: Despejamos x de la primera ecuación:\n",
            "x = -y - z + 1200.0\n",
            "\n",
            "Paso 2: Sustituimos x en E2 y E3 ecuación:\n",
            "Nueva ecuación en y, z: Eq(-1.0*y + 1.0*z + 2400.0, 2500.0)\n",
            "Nueva ecuación en y, z: Eq(1200.0 - 2.0*y, 400.0)\n",
            "\n",
            "Paso 3: Despejamos y de la segunda ecuación:\n",
            "y = z - 100.0\n",
            "\n",
            "Paso 4: Sustituimos y en la nueva tercer ecuación:\n",
            "\n",
            "Paso 4: Resolviendo para z obtenemos: z = 500.000000000000\n",
            "\n",
            "Paso 5: Sustituyendo z = 500.000000000000 en la ecuación despejada obtenemos: y = 400.000000000000\n",
            "\n",
            "Paso 6: Sustituyendo y, z en la ecuación despejada obtenemos: x = 300.000000000000\n",
            "\n",
            "✅ Solución del sistema:\n",
            "x = 300.000000000000, y = 400.000000000000, z = 500.000000000000\n"
          ]
        }
      ]
    }
  ]
}